{
 "cells": [
  {
   "cell_type": "code",
   "execution_count": 3,
   "id": "451047ab",
   "metadata": {},
   "outputs": [
    {
     "name": "stdout",
     "output_type": "stream",
     "text": [
      "24.0\n"
     ]
    }
   ],
   "source": [
    "#Create variables for weight and height\n",
    "weight = 60.0\n",
    "height = 1.58\n",
    "\n",
    "#Create variable for bmi and calculate it using weight and height\n",
    "bmi = weight / (height ** 2)\n",
    "\n",
    "#Print calculated bmi, rounded to 1 decimal point\n",
    "print(round(bmi,1))"
   ]
  }
 ],
 "metadata": {
  "kernelspec": {
   "display_name": "Python 3 (ipykernel)",
   "language": "python",
   "name": "python3"
  },
  "language_info": {
   "codemirror_mode": {
    "name": "ipython",
    "version": 3
   },
   "file_extension": ".py",
   "mimetype": "text/x-python",
   "name": "python",
   "nbconvert_exporter": "python",
   "pygments_lexer": "ipython3",
   "version": "3.10.6"
  }
 },
 "nbformat": 4,
 "nbformat_minor": 5
}
